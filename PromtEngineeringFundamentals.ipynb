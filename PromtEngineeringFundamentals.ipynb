{
  "nbformat": 4,
  "nbformat_minor": 0,
  "metadata": {
    "colab": {
      "provenance": []
    },
    "kernelspec": {
      "name": "python3",
      "display_name": "Python 3"
    },
    "language_info": {
      "name": "python"
    }
  },
  "cells": [
    {
      "cell_type": "code",
      "execution_count": 1,
      "metadata": {
        "colab": {
          "base_uri": "https://localhost:8080/"
        },
        "id": "7zzqRP-RC7i8",
        "outputId": "3c885181-65d2-4544-9cc3-093f02df0b5d"
      },
      "outputs": [
        {
          "output_type": "stream",
          "name": "stdout",
          "text": [
            "\u001b[2K   \u001b[90m━━━━━━━━━━━━━━━━━━━━━━━━━━━━━━━━━━━━━━━━\u001b[0m \u001b[32m2.5/2.5 MB\u001b[0m \u001b[31m29.9 MB/s\u001b[0m eta \u001b[36m0:00:00\u001b[0m\n",
            "\u001b[2K   \u001b[90m━━━━━━━━━━━━━━━━━━━━━━━━━━━━━━━━━━━━━━━━\u001b[0m \u001b[32m444.0/444.0 kB\u001b[0m \u001b[31m29.0 MB/s\u001b[0m eta \u001b[36m0:00:00\u001b[0m\n",
            "\u001b[2K   \u001b[90m━━━━━━━━━━━━━━━━━━━━━━━━━━━━━━━━━━━━━━━━\u001b[0m \u001b[32m131.4/131.4 kB\u001b[0m \u001b[31m9.8 MB/s\u001b[0m eta \u001b[36m0:00:00\u001b[0m\n",
            "\u001b[2K   \u001b[90m━━━━━━━━━━━━━━━━━━━━━━━━━━━━━━━━━━━━━━━━\u001b[0m \u001b[32m64.7/64.7 kB\u001b[0m \u001b[31m5.4 MB/s\u001b[0m eta \u001b[36m0:00:00\u001b[0m\n",
            "\u001b[2K   \u001b[90m━━━━━━━━━━━━━━━━━━━━━━━━━━━━━━━━━━━━━━━━\u001b[0m \u001b[32m50.9/50.9 kB\u001b[0m \u001b[31m3.9 MB/s\u001b[0m eta \u001b[36m0:00:00\u001b[0m\n",
            "\u001b[?25h\u001b[31mERROR: pip's dependency resolver does not currently take into account all the packages that are installed. This behaviour is the source of the following dependency conflicts.\n",
            "google-colab 1.0.0 requires requests==2.32.4, but you have requests 2.32.5 which is incompatible.\u001b[0m\u001b[31m\n",
            "\u001b[0m"
          ]
        }
      ],
      "source": [
        "!pip install -q langchain-groq langchain langchain-community langchain_core"
      ]
    },
    {
      "cell_type": "code",
      "source": [
        "import os\n",
        "from langchain_groq import ChatGroq\n",
        "from langchain.prompts import PromptTemplate\n",
        "from langchain.chains import ConversationChain\n",
        "from langchain.memory import ConversationBufferMemory\n",
        "import getpass"
      ],
      "metadata": {
        "id": "jiv7oqGADLyU"
      },
      "execution_count": 2,
      "outputs": []
    },
    {
      "cell_type": "code",
      "source": [
        "api_key = getpass.getpass(\"Enter your Groq API key: \")"
      ],
      "metadata": {
        "colab": {
          "base_uri": "https://localhost:8080/"
        },
        "id": "wDHQIIduDatL",
        "outputId": "a9f803dc-4ffb-4819-df51-423ecec3f806"
      },
      "execution_count": 3,
      "outputs": [
        {
          "name": "stdout",
          "output_type": "stream",
          "text": [
            "Enter your Groq API key: ··········\n"
          ]
        }
      ]
    },
    {
      "cell_type": "code",
      "source": [
        "llm = ChatGroq(\n",
        "    model=\"llama-3.1-8b-instant\",\n",
        "    api_key=api_key\n",
        ")"
      ],
      "metadata": {
        "id": "c9wdog5-ELNn"
      },
      "execution_count": 4,
      "outputs": []
    },
    {
      "cell_type": "code",
      "source": [
        "single_turn_prompt = \"What are the three primary colors?\"\n",
        "print(llm.invoke(single_turn_prompt).content)"
      ],
      "metadata": {
        "colab": {
          "base_uri": "https://localhost:8080/"
        },
        "id": "2I2clsEtENe1",
        "outputId": "14ee6d1a-820f-4753-968a-b62e1691cca9"
      },
      "execution_count": 5,
      "outputs": [
        {
          "output_type": "stream",
          "name": "stdout",
          "text": [
            "The three primary colors are:\n",
            "\n",
            "1. Red\n",
            "2. Blue\n",
            "3. Yellow\n",
            "\n",
            "These colors are called primary because they cannot be created by mixing other colors together, and they are the base colors used to create all other colors.\n"
          ]
        }
      ]
    },
    {
      "cell_type": "code",
      "source": [
        "structured_prompt = PromptTemplate(\n",
        "    input_variables=[\"topic\"],\n",
        "    template=\"Provide a brief explanation of {topic} and list its three main components.\"\n",
        ")\n",
        "\n",
        "chain = structured_prompt | llm\n",
        "print(chain.invoke({\"topic\": \"color theory\"}).content)"
      ],
      "metadata": {
        "colab": {
          "base_uri": "https://localhost:8080/"
        },
        "id": "uVPhw0o5FSKG",
        "outputId": "52c6b846-8991-43ad-9861-fa8ebddc3e64"
      },
      "execution_count": 6,
      "outputs": [
        {
          "output_type": "stream",
          "name": "stdout",
          "text": [
            "**Color Theory:**\n",
            "\n",
            "Color theory is a set of principles used to create and understand color combinations and their effects on human perception. It is a multidisciplinary field that combines art, design, and science to explain how colors interact with each other and with the human eye. Color theory helps artists, designers, and marketers create harmonious and effective color schemes that evoke emotions, convey messages, and engage audiences.\n",
            "\n",
            "**Three Main Components of Color Theory:**\n",
            "\n",
            "1. **The Color Wheel:** A circular diagram that displays the different colors and their relationships to each other. The color wheel is divided into primary colors (red, yellow, and blue), secondary colors (orange, green, and violet), and tertiary colors (colors created by mixing primary and secondary colors).\n",
            "2. **Hue, Saturation, and Value:** These three components are used to describe the color itself.\n",
            "\t* **Hue:** The actual color (e.g., red, blue, etc.).\n",
            "\t* **Saturation:** The intensity or brightness of the color (e.g., bright red vs. pale red).\n",
            "\t* **Value:** The lightness or darkness of the color (e.g., light blue vs. dark blue).\n",
            "3. **Color Harmony:** The principle of selecting colors that work well together to create a visually appealing effect. There are several types of color harmony, including:\n",
            "\t* Monochromatic (using different shades of the same color)\n",
            "\t* Complementary (using colors that are opposite each other on the color wheel)\n",
            "\t* Analogous (using colors that are next to each other on the color wheel)\n",
            "\t* Triadic (using colors that are equally spaced from each other on the color wheel)\n",
            "\n",
            "Understanding these three main components of color theory helps artists, designers, and marketers create effective color schemes that engage and communicate with their audience.\n"
          ]
        }
      ]
    },
    {
      "cell_type": "code",
      "source": [
        "conversation = ConversationChain(\n",
        "    llm=llm,\n",
        "    verbose=False,\n",
        "    memory=ConversationBufferMemory()\n",
        ")\n",
        "\n",
        "print(conversation.predict(input=\"Tell me about the company Target\"))\n",
        "print(conversation.predict(input=\"How about Falabella\"))\n",
        "print(conversation.predict(input=\"Where is it headquartered?\"))"
      ],
      "metadata": {
        "colab": {
          "base_uri": "https://localhost:8080/"
        },
        "id": "C1RgzDyJGJlc",
        "outputId": "2fcd77b6-6284-4e0e-fba6-f3579fdf694f"
      },
      "execution_count": 8,
      "outputs": [
        {
          "output_type": "stream",
          "name": "stdout",
          "text": [
            "Target Corporation, also known as simply Target, is an American retailing company headquartered in Minneapolis, Minnesota. It was founded in 1902 by George Dayton as the Goodfellow Dry Goods Company, which later changed its name to Dayton's Dry Goods Company in 1903. The company's first Target store was opened in 1962 in Roseville, Minnesota, by George Dayton's grandson, Douglas Dayton. The first Target store was designed to be a more modern and convenient alternative to traditional department stores.\n",
            "\n",
            "Today, Target operates over 1,926 stores across the United States, employing over 360,000 people. The company offers a wide range of products, including clothing, home goods, electronics, and groceries. Target is known for its emphasis on providing high-quality products at affordable prices, as well as its commitment to sustainability and corporate social responsibility.\n",
            "\n",
            "Target has also been at the forefront of e-commerce, launching its online shopping platform in 2000 and introducing same-day delivery and curbside pickup services in recent years. The company has also made significant investments in digital technologies, including artificial intelligence and machine learning, to enhance the shopping experience for its customers.\n",
            "\n",
            "Would you like to know more about Target's history, its business model, or something else?\n",
            "Falabella, also known as Falabella Retail Corporation, is a Chilean retailing company based in Santiago. It was founded in 1889 by Francisco Javier Falcón, and initially operated as a grocery store. Over the years, the company has grown and expanded its product offerings to include clothing, home goods, electronics, and other household items.\n",
            "\n",
            "Falabella is known for its extensive store network, with over 150 stores across Chile and Argentina. The company operates under various store formats, including department stores, supermarkets, and discount stores. Falabella has also invested in e-commerce, launching its online shopping platform in 2000 and introducing same-day delivery services in recent years.\n",
            "\n",
            "Falabella's business model focuses on providing high-quality products at competitive prices, with a strong emphasis on customer service and loyalty programs. The company has a significant presence in the Chilean and Argentine retail markets, and has expanded its operations to other countries in South America.\n",
            "\n",
            "Would you like to know more about Falabella's international operations, its marketing strategies, or something else?\n",
            "Falabella is headquartered in Santiago, Chile. Specifically, its corporate office is located in the Santiago Metropolitan Region, in the heart of the city. The exact address is not publicly available, but I can tell you that the company's headquarters is situated in a modern, upscale building that reflects its commitment to innovation and customer experience.\n"
          ]
        }
      ]
    },
    {
      "cell_type": "code",
      "source": [
        "!pip install dspy-ai"
      ],
      "metadata": {
        "colab": {
          "base_uri": "https://localhost:8080/"
        },
        "id": "g9m5eNSyHj28",
        "outputId": "c1d1012b-bf00-46cc-a890-57fd33863841"
      },
      "execution_count": 9,
      "outputs": [
        {
          "output_type": "stream",
          "name": "stdout",
          "text": [
            "Collecting dspy-ai\n",
            "  Downloading dspy_ai-3.0.2-py3-none-any.whl.metadata (285 bytes)\n",
            "Collecting dspy>=3.0.2 (from dspy-ai)\n",
            "  Downloading dspy-3.0.2-py3-none-any.whl.metadata (7.1 kB)\n",
            "Collecting backoff>=2.2 (from dspy>=3.0.2->dspy-ai)\n",
            "  Downloading backoff-2.2.1-py3-none-any.whl.metadata (14 kB)\n",
            "Requirement already satisfied: joblib~=1.3 in /usr/local/lib/python3.12/dist-packages (from dspy>=3.0.2->dspy-ai) (1.5.1)\n",
            "Requirement already satisfied: openai>=0.28.1 in /usr/local/lib/python3.12/dist-packages (from dspy>=3.0.2->dspy-ai) (1.101.0)\n",
            "Requirement already satisfied: regex>=2023.10.3 in /usr/local/lib/python3.12/dist-packages (from dspy>=3.0.2->dspy-ai) (2024.11.6)\n",
            "Collecting ujson>=5.8.0 (from dspy>=3.0.2->dspy-ai)\n",
            "  Downloading ujson-5.11.0-cp312-cp312-manylinux_2_24_x86_64.manylinux_2_28_x86_64.whl.metadata (9.4 kB)\n",
            "Requirement already satisfied: tqdm>=4.66.1 in /usr/local/lib/python3.12/dist-packages (from dspy>=3.0.2->dspy-ai) (4.67.1)\n",
            "Requirement already satisfied: requests>=2.31.0 in /usr/local/lib/python3.12/dist-packages (from dspy>=3.0.2->dspy-ai) (2.32.5)\n",
            "Collecting optuna>=3.4.0 (from dspy>=3.0.2->dspy-ai)\n",
            "  Downloading optuna-4.5.0-py3-none-any.whl.metadata (17 kB)\n",
            "Requirement already satisfied: pydantic>=2.0 in /usr/local/lib/python3.12/dist-packages (from dspy>=3.0.2->dspy-ai) (2.11.7)\n",
            "Collecting magicattr>=0.1.6 (from dspy>=3.0.2->dspy-ai)\n",
            "  Downloading magicattr-0.1.6-py2.py3-none-any.whl.metadata (3.2 kB)\n",
            "Collecting litellm>=1.64.0 (from dspy>=3.0.2->dspy-ai)\n",
            "  Downloading litellm-1.76.0-py3-none-any.whl.metadata (41 kB)\n",
            "\u001b[2K     \u001b[90m━━━━━━━━━━━━━━━━━━━━━━━━━━━━━━━━━━━━━━━━\u001b[0m \u001b[32m41.2/41.2 kB\u001b[0m \u001b[31m1.5 MB/s\u001b[0m eta \u001b[36m0:00:00\u001b[0m\n",
            "\u001b[?25hCollecting diskcache>=5.6.0 (from dspy>=3.0.2->dspy-ai)\n",
            "  Downloading diskcache-5.6.3-py3-none-any.whl.metadata (20 kB)\n",
            "Collecting json-repair>=0.30.0 (from dspy>=3.0.2->dspy-ai)\n",
            "  Downloading json_repair-0.50.0-py3-none-any.whl.metadata (10 kB)\n",
            "Requirement already satisfied: tenacity>=8.2.3 in /usr/local/lib/python3.12/dist-packages (from dspy>=3.0.2->dspy-ai) (8.5.0)\n",
            "Requirement already satisfied: anyio in /usr/local/lib/python3.12/dist-packages (from dspy>=3.0.2->dspy-ai) (4.10.0)\n",
            "Collecting asyncer==0.0.8 (from dspy>=3.0.2->dspy-ai)\n",
            "  Downloading asyncer-0.0.8-py3-none-any.whl.metadata (6.7 kB)\n",
            "Requirement already satisfied: cachetools>=5.5.0 in /usr/local/lib/python3.12/dist-packages (from dspy>=3.0.2->dspy-ai) (5.5.2)\n",
            "Requirement already satisfied: cloudpickle>=3.0.0 in /usr/local/lib/python3.12/dist-packages (from dspy>=3.0.2->dspy-ai) (3.1.1)\n",
            "Requirement already satisfied: rich>=13.7.1 in /usr/local/lib/python3.12/dist-packages (from dspy>=3.0.2->dspy-ai) (13.9.4)\n",
            "Requirement already satisfied: numpy>=1.26.0 in /usr/local/lib/python3.12/dist-packages (from dspy>=3.0.2->dspy-ai) (2.0.2)\n",
            "Requirement already satisfied: xxhash>=3.5.0 in /usr/local/lib/python3.12/dist-packages (from dspy>=3.0.2->dspy-ai) (3.5.0)\n",
            "Collecting gepa==0.0.4 (from gepa[dspy]==0.0.4->dspy>=3.0.2->dspy-ai)\n",
            "  Downloading gepa-0.0.4-py3-none-any.whl.metadata (10 kB)\n",
            "Requirement already satisfied: datasets>=2.14.6 in /usr/local/lib/python3.12/dist-packages (from gepa==0.0.4->gepa[dspy]==0.0.4->dspy>=3.0.2->dspy-ai) (4.0.0)\n",
            "Requirement already satisfied: idna>=2.8 in /usr/local/lib/python3.12/dist-packages (from anyio->dspy>=3.0.2->dspy-ai) (3.10)\n",
            "Requirement already satisfied: sniffio>=1.1 in /usr/local/lib/python3.12/dist-packages (from anyio->dspy>=3.0.2->dspy-ai) (1.3.1)\n",
            "Requirement already satisfied: typing_extensions>=4.5 in /usr/local/lib/python3.12/dist-packages (from anyio->dspy>=3.0.2->dspy-ai) (4.15.0)\n",
            "Requirement already satisfied: aiohttp>=3.10 in /usr/local/lib/python3.12/dist-packages (from litellm>=1.64.0->dspy>=3.0.2->dspy-ai) (3.12.15)\n",
            "Requirement already satisfied: click in /usr/local/lib/python3.12/dist-packages (from litellm>=1.64.0->dspy>=3.0.2->dspy-ai) (8.2.1)\n",
            "Requirement already satisfied: httpx>=0.23.0 in /usr/local/lib/python3.12/dist-packages (from litellm>=1.64.0->dspy>=3.0.2->dspy-ai) (0.28.1)\n",
            "Requirement already satisfied: importlib-metadata>=6.8.0 in /usr/local/lib/python3.12/dist-packages (from litellm>=1.64.0->dspy>=3.0.2->dspy-ai) (8.7.0)\n",
            "Requirement already satisfied: jinja2<4.0.0,>=3.1.2 in /usr/local/lib/python3.12/dist-packages (from litellm>=1.64.0->dspy>=3.0.2->dspy-ai) (3.1.6)\n",
            "Requirement already satisfied: jsonschema<5.0.0,>=4.22.0 in /usr/local/lib/python3.12/dist-packages (from litellm>=1.64.0->dspy>=3.0.2->dspy-ai) (4.25.1)\n",
            "Requirement already satisfied: python-dotenv>=0.2.0 in /usr/local/lib/python3.12/dist-packages (from litellm>=1.64.0->dspy>=3.0.2->dspy-ai) (1.1.1)\n",
            "Requirement already satisfied: tiktoken>=0.7.0 in /usr/local/lib/python3.12/dist-packages (from litellm>=1.64.0->dspy>=3.0.2->dspy-ai) (0.11.0)\n",
            "Requirement already satisfied: tokenizers in /usr/local/lib/python3.12/dist-packages (from litellm>=1.64.0->dspy>=3.0.2->dspy-ai) (0.21.4)\n",
            "Requirement already satisfied: distro<2,>=1.7.0 in /usr/local/lib/python3.12/dist-packages (from openai>=0.28.1->dspy>=3.0.2->dspy-ai) (1.9.0)\n",
            "Requirement already satisfied: jiter<1,>=0.4.0 in /usr/local/lib/python3.12/dist-packages (from openai>=0.28.1->dspy>=3.0.2->dspy-ai) (0.10.0)\n",
            "Collecting alembic>=1.5.0 (from optuna>=3.4.0->dspy>=3.0.2->dspy-ai)\n",
            "  Downloading alembic-1.16.5-py3-none-any.whl.metadata (7.3 kB)\n",
            "Collecting colorlog (from optuna>=3.4.0->dspy>=3.0.2->dspy-ai)\n",
            "  Downloading colorlog-6.9.0-py3-none-any.whl.metadata (10 kB)\n",
            "Requirement already satisfied: packaging>=20.0 in /usr/local/lib/python3.12/dist-packages (from optuna>=3.4.0->dspy>=3.0.2->dspy-ai) (25.0)\n",
            "Requirement already satisfied: sqlalchemy>=1.4.2 in /usr/local/lib/python3.12/dist-packages (from optuna>=3.4.0->dspy>=3.0.2->dspy-ai) (2.0.43)\n",
            "Requirement already satisfied: PyYAML in /usr/local/lib/python3.12/dist-packages (from optuna>=3.4.0->dspy>=3.0.2->dspy-ai) (6.0.2)\n",
            "Requirement already satisfied: annotated-types>=0.6.0 in /usr/local/lib/python3.12/dist-packages (from pydantic>=2.0->dspy>=3.0.2->dspy-ai) (0.7.0)\n",
            "Requirement already satisfied: pydantic-core==2.33.2 in /usr/local/lib/python3.12/dist-packages (from pydantic>=2.0->dspy>=3.0.2->dspy-ai) (2.33.2)\n",
            "Requirement already satisfied: typing-inspection>=0.4.0 in /usr/local/lib/python3.12/dist-packages (from pydantic>=2.0->dspy>=3.0.2->dspy-ai) (0.4.1)\n",
            "Requirement already satisfied: charset_normalizer<4,>=2 in /usr/local/lib/python3.12/dist-packages (from requests>=2.31.0->dspy>=3.0.2->dspy-ai) (3.4.3)\n",
            "Requirement already satisfied: urllib3<3,>=1.21.1 in /usr/local/lib/python3.12/dist-packages (from requests>=2.31.0->dspy>=3.0.2->dspy-ai) (2.5.0)\n",
            "Requirement already satisfied: certifi>=2017.4.17 in /usr/local/lib/python3.12/dist-packages (from requests>=2.31.0->dspy>=3.0.2->dspy-ai) (2025.8.3)\n",
            "Requirement already satisfied: markdown-it-py>=2.2.0 in /usr/local/lib/python3.12/dist-packages (from rich>=13.7.1->dspy>=3.0.2->dspy-ai) (4.0.0)\n",
            "Requirement already satisfied: pygments<3.0.0,>=2.13.0 in /usr/local/lib/python3.12/dist-packages (from rich>=13.7.1->dspy>=3.0.2->dspy-ai) (2.19.2)\n",
            "Requirement already satisfied: aiohappyeyeballs>=2.5.0 in /usr/local/lib/python3.12/dist-packages (from aiohttp>=3.10->litellm>=1.64.0->dspy>=3.0.2->dspy-ai) (2.6.1)\n",
            "Requirement already satisfied: aiosignal>=1.4.0 in /usr/local/lib/python3.12/dist-packages (from aiohttp>=3.10->litellm>=1.64.0->dspy>=3.0.2->dspy-ai) (1.4.0)\n",
            "Requirement already satisfied: attrs>=17.3.0 in /usr/local/lib/python3.12/dist-packages (from aiohttp>=3.10->litellm>=1.64.0->dspy>=3.0.2->dspy-ai) (25.3.0)\n",
            "Requirement already satisfied: frozenlist>=1.1.1 in /usr/local/lib/python3.12/dist-packages (from aiohttp>=3.10->litellm>=1.64.0->dspy>=3.0.2->dspy-ai) (1.7.0)\n",
            "Requirement already satisfied: multidict<7.0,>=4.5 in /usr/local/lib/python3.12/dist-packages (from aiohttp>=3.10->litellm>=1.64.0->dspy>=3.0.2->dspy-ai) (6.6.4)\n",
            "Requirement already satisfied: propcache>=0.2.0 in /usr/local/lib/python3.12/dist-packages (from aiohttp>=3.10->litellm>=1.64.0->dspy>=3.0.2->dspy-ai) (0.3.2)\n",
            "Requirement already satisfied: yarl<2.0,>=1.17.0 in /usr/local/lib/python3.12/dist-packages (from aiohttp>=3.10->litellm>=1.64.0->dspy>=3.0.2->dspy-ai) (1.20.1)\n",
            "Requirement already satisfied: Mako in /usr/lib/python3/dist-packages (from alembic>=1.5.0->optuna>=3.4.0->dspy>=3.0.2->dspy-ai) (1.1.3)\n",
            "Requirement already satisfied: filelock in /usr/local/lib/python3.12/dist-packages (from datasets>=2.14.6->gepa==0.0.4->gepa[dspy]==0.0.4->dspy>=3.0.2->dspy-ai) (3.19.1)\n",
            "Requirement already satisfied: pyarrow>=15.0.0 in /usr/local/lib/python3.12/dist-packages (from datasets>=2.14.6->gepa==0.0.4->gepa[dspy]==0.0.4->dspy>=3.0.2->dspy-ai) (18.1.0)\n",
            "Requirement already satisfied: dill<0.3.9,>=0.3.0 in /usr/local/lib/python3.12/dist-packages (from datasets>=2.14.6->gepa==0.0.4->gepa[dspy]==0.0.4->dspy>=3.0.2->dspy-ai) (0.3.8)\n",
            "Requirement already satisfied: pandas in /usr/local/lib/python3.12/dist-packages (from datasets>=2.14.6->gepa==0.0.4->gepa[dspy]==0.0.4->dspy>=3.0.2->dspy-ai) (2.2.2)\n",
            "Requirement already satisfied: multiprocess<0.70.17 in /usr/local/lib/python3.12/dist-packages (from datasets>=2.14.6->gepa==0.0.4->gepa[dspy]==0.0.4->dspy>=3.0.2->dspy-ai) (0.70.16)\n",
            "Requirement already satisfied: fsspec<=2025.3.0,>=2023.1.0 in /usr/local/lib/python3.12/dist-packages (from fsspec[http]<=2025.3.0,>=2023.1.0->datasets>=2.14.6->gepa==0.0.4->gepa[dspy]==0.0.4->dspy>=3.0.2->dspy-ai) (2025.3.0)\n",
            "Requirement already satisfied: huggingface-hub>=0.24.0 in /usr/local/lib/python3.12/dist-packages (from datasets>=2.14.6->gepa==0.0.4->gepa[dspy]==0.0.4->dspy>=3.0.2->dspy-ai) (0.34.4)\n",
            "Requirement already satisfied: httpcore==1.* in /usr/local/lib/python3.12/dist-packages (from httpx>=0.23.0->litellm>=1.64.0->dspy>=3.0.2->dspy-ai) (1.0.9)\n",
            "Requirement already satisfied: h11>=0.16 in /usr/local/lib/python3.12/dist-packages (from httpcore==1.*->httpx>=0.23.0->litellm>=1.64.0->dspy>=3.0.2->dspy-ai) (0.16.0)\n",
            "Requirement already satisfied: zipp>=3.20 in /usr/local/lib/python3.12/dist-packages (from importlib-metadata>=6.8.0->litellm>=1.64.0->dspy>=3.0.2->dspy-ai) (3.23.0)\n",
            "Requirement already satisfied: MarkupSafe>=2.0 in /usr/local/lib/python3.12/dist-packages (from jinja2<4.0.0,>=3.1.2->litellm>=1.64.0->dspy>=3.0.2->dspy-ai) (3.0.2)\n",
            "Requirement already satisfied: jsonschema-specifications>=2023.03.6 in /usr/local/lib/python3.12/dist-packages (from jsonschema<5.0.0,>=4.22.0->litellm>=1.64.0->dspy>=3.0.2->dspy-ai) (2025.4.1)\n",
            "Requirement already satisfied: referencing>=0.28.4 in /usr/local/lib/python3.12/dist-packages (from jsonschema<5.0.0,>=4.22.0->litellm>=1.64.0->dspy>=3.0.2->dspy-ai) (0.36.2)\n",
            "Requirement already satisfied: rpds-py>=0.7.1 in /usr/local/lib/python3.12/dist-packages (from jsonschema<5.0.0,>=4.22.0->litellm>=1.64.0->dspy>=3.0.2->dspy-ai) (0.27.0)\n",
            "Requirement already satisfied: mdurl~=0.1 in /usr/local/lib/python3.12/dist-packages (from markdown-it-py>=2.2.0->rich>=13.7.1->dspy>=3.0.2->dspy-ai) (0.1.2)\n",
            "Requirement already satisfied: greenlet>=1 in /usr/local/lib/python3.12/dist-packages (from sqlalchemy>=1.4.2->optuna>=3.4.0->dspy>=3.0.2->dspy-ai) (3.2.4)\n",
            "Requirement already satisfied: hf-xet<2.0.0,>=1.1.3 in /usr/local/lib/python3.12/dist-packages (from huggingface-hub>=0.24.0->datasets>=2.14.6->gepa==0.0.4->gepa[dspy]==0.0.4->dspy>=3.0.2->dspy-ai) (1.1.8)\n",
            "Requirement already satisfied: python-dateutil>=2.8.2 in /usr/local/lib/python3.12/dist-packages (from pandas->datasets>=2.14.6->gepa==0.0.4->gepa[dspy]==0.0.4->dspy>=3.0.2->dspy-ai) (2.9.0.post0)\n",
            "Requirement already satisfied: pytz>=2020.1 in /usr/local/lib/python3.12/dist-packages (from pandas->datasets>=2.14.6->gepa==0.0.4->gepa[dspy]==0.0.4->dspy>=3.0.2->dspy-ai) (2025.2)\n",
            "Requirement already satisfied: tzdata>=2022.7 in /usr/local/lib/python3.12/dist-packages (from pandas->datasets>=2.14.6->gepa==0.0.4->gepa[dspy]==0.0.4->dspy>=3.0.2->dspy-ai) (2025.2)\n",
            "Requirement already satisfied: six>=1.5 in /usr/local/lib/python3.12/dist-packages (from python-dateutil>=2.8.2->pandas->datasets>=2.14.6->gepa==0.0.4->gepa[dspy]==0.0.4->dspy>=3.0.2->dspy-ai) (1.17.0)\n",
            "Downloading dspy_ai-3.0.2-py3-none-any.whl (1.1 kB)\n",
            "Downloading dspy-3.0.2-py3-none-any.whl (260 kB)\n",
            "\u001b[2K   \u001b[90m━━━━━━━━━━━━━━━━━━━━━━━━━━━━━━━━━━━━━━━━\u001b[0m \u001b[32m260.1/260.1 kB\u001b[0m \u001b[31m7.0 MB/s\u001b[0m eta \u001b[36m0:00:00\u001b[0m\n",
            "\u001b[?25hDownloading asyncer-0.0.8-py3-none-any.whl (9.2 kB)\n",
            "Downloading gepa-0.0.4-py3-none-any.whl (35 kB)\n",
            "Downloading backoff-2.2.1-py3-none-any.whl (15 kB)\n",
            "Downloading diskcache-5.6.3-py3-none-any.whl (45 kB)\n",
            "\u001b[2K   \u001b[90m━━━━━━━━━━━━━━━━━━━━━━━━━━━━━━━━━━━━━━━━\u001b[0m \u001b[32m45.5/45.5 kB\u001b[0m \u001b[31m3.8 MB/s\u001b[0m eta \u001b[36m0:00:00\u001b[0m\n",
            "\u001b[?25hDownloading json_repair-0.50.0-py3-none-any.whl (25 kB)\n",
            "Downloading litellm-1.76.0-py3-none-any.whl (9.0 MB)\n",
            "\u001b[2K   \u001b[90m━━━━━━━━━━━━━━━━━━━━━━━━━━━━━━━━━━━━━━━━\u001b[0m \u001b[32m9.0/9.0 MB\u001b[0m \u001b[31m82.2 MB/s\u001b[0m eta \u001b[36m0:00:00\u001b[0m\n",
            "\u001b[?25hDownloading magicattr-0.1.6-py2.py3-none-any.whl (4.7 kB)\n",
            "Downloading optuna-4.5.0-py3-none-any.whl (400 kB)\n",
            "\u001b[2K   \u001b[90m━━━━━━━━━━━━━━━━━━━━━━━━━━━━━━━━━━━━━━━━\u001b[0m \u001b[32m400.9/400.9 kB\u001b[0m \u001b[31m33.1 MB/s\u001b[0m eta \u001b[36m0:00:00\u001b[0m\n",
            "\u001b[?25hDownloading ujson-5.11.0-cp312-cp312-manylinux_2_24_x86_64.manylinux_2_28_x86_64.whl (57 kB)\n",
            "\u001b[2K   \u001b[90m━━━━━━━━━━━━━━━━━━━━━━━━━━━━━━━━━━━━━━━━\u001b[0m \u001b[32m57.4/57.4 kB\u001b[0m \u001b[31m4.6 MB/s\u001b[0m eta \u001b[36m0:00:00\u001b[0m\n",
            "\u001b[?25hDownloading alembic-1.16.5-py3-none-any.whl (247 kB)\n",
            "\u001b[2K   \u001b[90m━━━━━━━━━━━━━━━━━━━━━━━━━━━━━━━━━━━━━━━━\u001b[0m \u001b[32m247.4/247.4 kB\u001b[0m \u001b[31m19.2 MB/s\u001b[0m eta \u001b[36m0:00:00\u001b[0m\n",
            "\u001b[?25hDownloading colorlog-6.9.0-py3-none-any.whl (11 kB)\n",
            "Installing collected packages: magicattr, ujson, json-repair, diskcache, colorlog, backoff, asyncer, alembic, optuna, litellm, gepa, dspy, dspy-ai\n",
            "Successfully installed alembic-1.16.5 asyncer-0.0.8 backoff-2.2.1 colorlog-6.9.0 diskcache-5.6.3 dspy-3.0.2 dspy-ai-3.0.2 gepa-0.0.4 json-repair-0.50.0 litellm-1.76.0 magicattr-0.1.6 optuna-4.5.0 ujson-5.11.0\n"
          ]
        }
      ]
    },
    {
      "cell_type": "code",
      "source": [
        "import dspy\n",
        "lm = dspy.LM(\n",
        "    model=\"groq/llama-3.1-8b-instant\",\n",
        "    api_key=api_key,\n",
        "    max_tokens=600\n",
        ")\n",
        "\n",
        "dspy.settings.configure(lm=lm)"
      ],
      "metadata": {
        "id": "KK11fCeKHwL2"
      },
      "execution_count": 10,
      "outputs": []
    },
    {
      "cell_type": "code",
      "source": [
        "class CityInfo(dspy.Signature):\n",
        "    \"\"\"Return structured facts about a city in JSON format.\"\"\"\n",
        "    city = dspy.InputField(desc=\"Name of the city\")\n",
        "    output = dspy.OutputField(\n",
        "        desc=\"JSON with keys: history, culture, food\"\n",
        "    )"
      ],
      "metadata": {
        "id": "PbzEHmVoH-8J"
      },
      "execution_count": 12,
      "outputs": []
    },
    {
      "cell_type": "code",
      "source": [
        "city_info_module = dspy.Predict(CityInfo)"
      ],
      "metadata": {
        "id": "fu3nPYEUIJlC"
      },
      "execution_count": 13,
      "outputs": []
    },
    {
      "cell_type": "code",
      "source": [
        "response = city_info_module(city=\"Lucknow\")\n",
        "print(response.output)"
      ],
      "metadata": {
        "colab": {
          "base_uri": "https://localhost:8080/"
        },
        "id": "2IHP1v_iINkj",
        "outputId": "89042fac-9043-4734-fe85-4614d43bd3e7"
      },
      "execution_count": 15,
      "outputs": [
        {
          "output_type": "stream",
          "name": "stdout",
          "text": [
            "{\n",
            "  \"history\": \"Lucknow has a rich history dating back to the 18th century when it was the capital of the Awadh region. It was a major center of the Indian Rebellion of 1857 and has been ruled by various empires and dynasties, including the Mughal Empire and the British East India Company.\",\n",
            "  \"culture\": \"Lucknow is known for its unique culture, which is a blend of traditional Indian and Islamic influences. The city is famous for its traditional dance forms, such as the Kathak dance, and its rich literary heritage. The city is also home to many festivals, including the Lucknow Mahotsav, which celebrates the city's culture and heritage.\",\n",
            "  \"food\": \"Lucknow is famous for its cuisine, which is known as Awadhi cuisine. It is a rich and flavorful cuisine that is characterized by the use of spices, nuts, and dried fruits. Some popular dishes from Lucknow include the biryani, kebabs, and haleem.\"\n",
            "}\n"
          ]
        }
      ]
    },
    {
      "cell_type": "code",
      "source": [
        "cities = [\"Tokyo\", \"Mumbai\", \"London\"]\n",
        "\n",
        "for city in cities:\n",
        "    print(f\"\\n--- Information about {city} ---\")\n",
        "    response = city_info_module(city=city)\n",
        "    print(response.output)"
      ],
      "metadata": {
        "colab": {
          "base_uri": "https://localhost:8080/"
        },
        "id": "ZIIJivqnIl5k",
        "outputId": "b017197e-e420-42ea-e6a7-5518261fefdd"
      },
      "execution_count": 16,
      "outputs": [
        {
          "output_type": "stream",
          "name": "stdout",
          "text": [
            "\n",
            "--- Information about Tokyo ---\n",
            "{\n",
            "  \"history\": \"Tokyo has a rich history dating back to the 15th century. It was once a small fishing village but grew into a major city after the Edo period. The city was the capital of Japan from 1868 to 1945 and has since become a global hub for technology, finance, and culture.\",\n",
            "  \"culture\": \"Tokyo is known for its unique blend of traditional and modern culture. The city is home to many temples, shrines, and gardens, such as the Meiji Shrine and the Imperial Palace. It is also famous for its vibrant entertainment districts, including Shinjuku's Kabukicho and Shibuya's Center Gai.\",\n",
            "  \"food\": \"Tokyo is a food lover's paradise, with a wide range of delicious and unique cuisine. Some popular dishes include sushi, ramen, and tempura. The city is also famous for its street food, such as yakitori and takoyaki.\"\n",
            "}\n",
            "\n",
            "--- Information about Mumbai ---\n",
            "{\n",
            "  \"history\": \"Mumbai has a rich history dating back to the 16th century when it was a small fishing village called 'Bhappagad'. It was later renamed 'Bombay' by the British and became a major trading port. In 1995, the city was officially renamed 'Mumbai'.\",\n",
            "  \"culture\": \"Mumbai is a culturally diverse city with a mix of Indian, British, and Portuguese influences. The city is home to many temples, mosques, and churches, and is known for its vibrant street art and music scene.\",\n",
            "  \"food\": \"Mumbai is famous for its street food, including popular dishes like vada pav, pani puri, and bhelpuri. The city is also known for its seafood, particularly its fish fry and bombil fry.\"\n",
            "}\n",
            "\n",
            "--- Information about London ---\n",
            "{\n",
            "  \"history\": \"London has a rich history dating back to Roman times. It was a major trading center during the Middle Ages and played a significant role in the British Empire. The city has been the capital of England since the 11th century and has been a major cultural and economic hub for centuries.\",\n",
            "  \"culture\": \"London is known for its diverse cultural scene, with numerous museums, galleries, and performance venues. The city is home to the British Museum, the National Gallery, and the Tate Modern, among others. London is also famous for its theater scene, with numerous West End productions and the Royal Shakespeare Company.\",\n",
            "  \"food\": \"London's food scene is diverse and influenced by its multicultural population. Traditional British cuisine includes fish and chips, roast beef, and full English breakfasts. The city is also famous for its Indian and Chinese cuisine, with many high-end restaurants and street food stalls serving a wide range of international dishes.\"\n",
            "}\n"
          ]
        }
      ]
    }
  ]
}